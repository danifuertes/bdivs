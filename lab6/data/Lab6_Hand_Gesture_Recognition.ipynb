{
  "cells": [
    {
      "cell_type": "markdown",
      "metadata": {
        "id": "OObqjyy-ytwA"
      },
      "source": [
        "# Import libraries\n",
        "\n"
      ]
    },
    {
      "cell_type": "code",
      "execution_count": null,
      "metadata": {
        "id": "SsX23ChLyt48"
      },
      "outputs": [],
      "source": [
        "from sklearn import preprocessing\n",
        "from skimage.io import imread\n",
        "from skimage import io\n",
        "from skimage.transform import rescale\n",
        "import os\n",
        "import numpy as np\n",
        "import time\n",
        "%matplotlib inline\n",
        "from matplotlib import pyplot as plt\n",
        "from DICTOL_python.dictol.utils import randperm\n",
        "from DICTOL_python.dictol.utils import label_to_range\n",
        "from DICTOL_python.dictol.utils import get_block_col\n",
        "from DICTOL_python.dictol.utils import normc\n",
        "from DICTOL_python.dictol import SRC, DLSI"
      ]
    },
    {
      "cell_type": "markdown",
      "metadata": {
        "id": "8ustPnJ9QXF6"
      },
      "source": [
        "# Load Hand_Gesture_Recognition_Database and Compute feature vectors"
      ]
    },
    {
      "cell_type": "code",
      "execution_count": null,
      "metadata": {
        "id": "r9Re4iw-HYEu"
      },
      "outputs": [],
      "source": [
        "scale_factor = 0.25"
      ]
    },
    {
      "cell_type": "code",
      "execution_count": null,
      "metadata": {
        "colab": {
          "base_uri": "https://localhost:8080/"
        },
        "id": "2pnL7g3aOG-n",
        "outputId": "1c9f6c1c-13ce-4a8a-9029-5be49e9fdfcb"
      },
      "outputs": [
        {
          "name": "stdout",
          "output_type": "stream",
          "text": [
            "Image size: (60, 160)\n"
          ]
        }
      ],
      "source": [
        "# Find out image dimension (it is assumed that all images have the same size)\n",
        "# Read image\n",
        "im_path = 'DICTOL_python/dictol/data/Hand Gesture Recognition Database/05_thumb/frame_00_05_0008.png'\n",
        "im = imread(im_path)\n",
        "im = rescale(im, scale_factor)\n",
        "print(f'Image size: {im.shape}')"
      ]
    },
    {
      "cell_type": "code",
      "execution_count": null,
      "metadata": {
        "id": "NtNZbP4IrAZM"
      },
      "outputs": [],
      "source": [
        "# Random projection class\n",
        "class RP:\n",
        "\n",
        "    ### Constractor.\n",
        "    # Save hyper parameters as member variables.\n",
        "    # Create random matrix generator and random matrix instance.\n",
        "    def __init__(self, dim_in, dim_out):\n",
        "        self.dim_in = dim_in\n",
        "        self.dim_out = dim_out\n",
        "        # Normalized random Gaussian matrix\n",
        "        self.proj_mat = np.sqrt(dim_out) * np.random.randn(dim_in, dim_out)  #np.sqrt(dim_out) normalizes every column to 1\n",
        "\n",
        "    ### Compute random projections over X, where every row is data sample.\n",
        "    def compute_rp(self, X):\n",
        "        rp_feat = X @ self.proj_mat\n",
        "        return rp_feat"
      ]
    },
    {
      "cell_type": "code",
      "execution_count": null,
      "metadata": {
        "id": "qwFiDIToQXQ7"
      },
      "outputs": [],
      "source": [
        "# Main function to load Hand_Gesture_Recognition_Database and compute compressed features\n",
        "def load_HGR_train_test(N_train_c, dim_feat=504, subsampling=[], scale_factor=1):\n",
        "    # Arguments\n",
        "    # - N_train_c: number of training images per class to learn/build dictionary.\n",
        "    # - dim_feat: dimensionality of the random projected vectors.\n",
        "    # - subsampling: reduce the number of samples in database using this subsampling factor.\n",
        "    # - scale_factor: image scaling factor.\n",
        "\n",
        "    # Read images from database and generate feature vectors\n",
        "    path_list = []\n",
        "    label_list = []\n",
        "    dataset_path = os.path.abspath('DICTOL_python/dictol/data/Hand Gesture Recognition Database')\n",
        "    for path, dirs, files in os.walk(dataset_path):\n",
        "        # In Linux and Mac, os.walk() returns an unordered list of files and directories\n",
        "        dirs.sort()\n",
        "        print(f'Scanning folder: {os.path.dirname(os.path.abspath(os.path.join(path, files[0])))}')\n",
        "        for file in sorted(files):\n",
        "            if file.endswith(\".png\"):\n",
        "                # Add image to path list\n",
        "                path_list.append(os.path.join(path, file))\n",
        "\n",
        "                # Estimate labels from folder names\n",
        "                full_path = os.path.dirname(os.path.abspath(os.path.join(path, file)))\n",
        "                label = os.path.normpath(full_path).split(os.path.sep)[-1]\n",
        "                label_list.append(label)\n",
        "\n",
        "    if subsampling:\n",
        "      total_samples = len(path_list)\n",
        "      num_samples = int(subsampling/100*total_samples)\n",
        "      ind = np.random.permutation(total_samples)\n",
        "      path_list = [path_list[i] for i in ind[:num_samples]]\n",
        "      label_list = [label_list[i] for i in ind[:num_samples]]\n",
        "      print(f'Subsampling database. Num of considered samples: {num_samples} out of {total_samples} ({subsampling}%)')\n",
        "\n",
        "    feat_list = []\n",
        "    rp = []\n",
        "    count = 0\n",
        "    for im_path in path_list:\n",
        "        # Computes feature vectors (RP) from images\n",
        "        # Read image\n",
        "        im = imread(im_path)\n",
        "        im = rescale(im, scale_factor)\n",
        "        im = (im/255)-0.5\n",
        "        im_vec = im.reshape((1, -1))\n",
        "        # Computes feature vector\n",
        "        if not rp:\n",
        "            rp = RP(dim_in=im_vec.shape[1], dim_out=dim_feat)\n",
        "        rp_feat = rp.compute_rp(im_vec)\n",
        "        feat_list.append(rp_feat)\n",
        "\n",
        "        if (count % 100) == 0:\n",
        "          print(f'Computed other 100 feature vectors')\n",
        "        count = count + 1\n",
        "\n",
        "    Y = np.asarray(feat_list).squeeze().transpose()\n",
        "    # Label enconding\n",
        "    le = preprocessing.LabelEncoder()\n",
        "    le.fit(label_list)\n",
        "    label_int = le.transform(label_list) + 1  # Function label_to_range() requires that labels start by 1 (not 0)\n",
        "    # Decoding: le.inverse_transform(label_int)\n",
        "\n",
        "    # Order label_int and path_list as required by label_to_range()\n",
        "    if subsampling:\n",
        "      ord_ind = sorted(range(len(label_int)), key=lambda k: label_int[k])\n",
        "      label_int = [label_int[i] for i in ord_ind]\n",
        "      path_list = [path_list[i] for i in ord_ind]\n",
        "\n",
        "    d = Y.shape[0]  # Size of feature vectors computed from images.\n",
        "    Y_range = np.array(label_to_range(label_int))\n",
        "\n",
        "    C = Y_range.size - 1\n",
        "    N_total = Y_range[-1]\n",
        "    N_train = C * N_train_c\n",
        "    N_test = N_total - N_train\n",
        "    if (N_test <= 0):\n",
        "      print(f'Number of samples: {N_total}')\n",
        "      print(f'Number of training samples: {N_train}')\n",
        "      print(f'Number of training samples: {N_test}')\n",
        "      raise Exception(\"Too many samples in the training subset. There in not enough for testing. Reduce the value of variable N_train_c.\")\n",
        "\n",
        "    Y_train = np.zeros((d, N_train))\n",
        "    Y_test = np.zeros((d, N_test))\n",
        "    label_train = [0] * N_train\n",
        "    label_test = [0] * N_test\n",
        "    cur_train = 0\n",
        "    cur_test = 0\n",
        "    for c in range(C):\n",
        "        Yc = get_block_col(Y, c, Y_range)\n",
        "        N_total_c = Yc.shape[1]\n",
        "        N_test_c = N_total_c - N_train_c\n",
        "        if (N_test_c <= 0):\n",
        "          print(f'Number of samples for class {le.inverse_transform(c)}: {N_total_c}')\n",
        "          print(f'Number of training samples for class {le.inverse_transform(c)}: {N_train_c}')\n",
        "          print(f'Number of testing samples for class {le.inverse_transform(c)}: {N_test_c}')\n",
        "          str_0 = f\"Too many samples in the training subset for the class {le.inverse_transform(c)}.  There in not enough for testing. Reduce the value of variable N_train_c.\"\n",
        "          raise Exception(str_0)\n",
        "        label_train[cur_train: cur_train + N_train_c] = [c + 1] * N_train_c\n",
        "        label_test[cur_test:cur_test + N_test_c] = [c + 1] * N_test_c\n",
        "\n",
        "        ids = randperm(N_total_c)\n",
        "\n",
        "        Y_train[:, cur_train: cur_train + N_train_c] = \\\n",
        "            Yc[:, np.sort(ids[:N_train_c])]\n",
        "\n",
        "        Y_test[:, cur_test: cur_test + N_test_c] = \\\n",
        "            Yc[:, np.sort(ids[N_train_c:])]\n",
        "\n",
        "        cur_train += N_train_c\n",
        "        cur_test += N_test_c\n",
        "\n",
        "    Y_train = normc(Y_train)\n",
        "    Y_test = normc(Y_test)\n",
        "    return (Y_train, label_train, Y_test, label_test, le, rp)"
      ]
    },
    {
      "cell_type": "code",
      "execution_count": null,
      "metadata": {
        "colab": {
          "base_uri": "https://localhost:8080/"
        },
        "id": "rGUI5tE4S7gF",
        "outputId": "c09466fc-d1c5-4cdd-9fc4-feb67b163615"
      },
      "outputs": [
        {
          "name": "stdout",
          "output_type": "stream",
          "text": [
            "Scanning folder: /content/DICTOL_python/dictol/data/Hand Gesture Recognition Database\n",
            "Scanning folder: /content/DICTOL_python/dictol/data/Hand Gesture Recognition Database/01_palm\n",
            "Scanning folder: /content/DICTOL_python/dictol/data/Hand Gesture Recognition Database/02_l\n",
            "Scanning folder: /content/DICTOL_python/dictol/data/Hand Gesture Recognition Database/03_fist\n",
            "Scanning folder: /content/DICTOL_python/dictol/data/Hand Gesture Recognition Database/04_fist_moved\n",
            "Scanning folder: /content/DICTOL_python/dictol/data/Hand Gesture Recognition Database/05_thumb\n",
            "Scanning folder: /content/DICTOL_python/dictol/data/Hand Gesture Recognition Database/06_index\n",
            "Scanning folder: /content/DICTOL_python/dictol/data/Hand Gesture Recognition Database/07_ok\n",
            "Scanning folder: /content/DICTOL_python/dictol/data/Hand Gesture Recognition Database/08_palm_moved\n",
            "Scanning folder: /content/DICTOL_python/dictol/data/Hand Gesture Recognition Database/09_c\n",
            "Scanning folder: /content/DICTOL_python/dictol/data/Hand Gesture Recognition Database/10_down\n",
            "Computed other 100 feature vectors\n",
            "Computed other 100 feature vectors\n",
            "Computed other 100 feature vectors\n",
            "Computed other 100 feature vectors\n",
            "Computed other 100 feature vectors\n",
            "Computed other 100 feature vectors\n",
            "Computed other 100 feature vectors\n",
            "Computed other 100 feature vectors\n",
            "Computed other 100 feature vectors\n",
            "Computed other 100 feature vectors\n",
            "Computed other 100 feature vectors\n",
            "Computed other 100 feature vectors\n",
            "Computed other 100 feature vectors\n",
            "Computed other 100 feature vectors\n",
            "Computed other 100 feature vectors\n",
            "Computed other 100 feature vectors\n",
            "Computed other 100 feature vectors\n",
            "Computed other 100 feature vectors\n",
            "Computed other 100 feature vectors\n",
            "Computed other 100 feature vectors\n",
            "Computed other 100 feature vectors\n",
            "Computed other 100 feature vectors\n",
            "Computed other 100 feature vectors\n",
            "Computed other 100 feature vectors\n",
            "Computed other 100 feature vectors\n",
            "Computed other 100 feature vectors\n",
            "Computed other 100 feature vectors\n",
            "Computed other 100 feature vectors\n",
            "Computed other 100 feature vectors\n",
            "Computed other 100 feature vectors\n",
            "Computed other 100 feature vectors\n",
            "Computed other 100 feature vectors\n",
            "Computed other 100 feature vectors\n",
            "Computed other 100 feature vectors\n",
            "Computed other 100 feature vectors\n",
            "Computed other 100 feature vectors\n",
            "Computed other 100 feature vectors\n",
            "Computed other 100 feature vectors\n",
            "Computed other 100 feature vectors\n",
            "Computed other 100 feature vectors\n",
            "Computed other 100 feature vectors\n",
            "Computed other 100 feature vectors\n",
            "Computed other 100 feature vectors\n",
            "Computed other 100 feature vectors\n",
            "Computed other 100 feature vectors\n",
            "Computed other 100 feature vectors\n",
            "Computed other 100 feature vectors\n",
            "Computed other 100 feature vectors\n",
            "Computed other 100 feature vectors\n",
            "Computed other 100 feature vectors\n",
            "Computed other 100 feature vectors\n",
            "Computed other 100 feature vectors\n",
            "Computed other 100 feature vectors\n",
            "Computed other 100 feature vectors\n",
            "Computed other 100 feature vectors\n",
            "Computed other 100 feature vectors\n",
            "Computed other 100 feature vectors\n",
            "Computed other 100 feature vectors\n",
            "Computed other 100 feature vectors\n",
            "Computed other 100 feature vectors\n",
            "Computed other 100 feature vectors\n",
            "Computed other 100 feature vectors\n",
            "Computed other 100 feature vectors\n",
            "Computed other 100 feature vectors\n",
            "Computed other 100 feature vectors\n",
            "Computed other 100 feature vectors\n",
            "Computed other 100 feature vectors\n",
            "Computed other 100 feature vectors\n",
            "Computed other 100 feature vectors\n",
            "Computed other 100 feature vectors\n",
            "Computed other 100 feature vectors\n",
            "Computed other 100 feature vectors\n",
            "Computed other 100 feature vectors\n",
            "Computed other 100 feature vectors\n",
            "Computed other 100 feature vectors\n",
            "Computed other 100 feature vectors\n",
            "Computed other 100 feature vectors\n",
            "Computed other 100 feature vectors\n",
            "Computed other 100 feature vectors\n",
            "Computed other 100 feature vectors\n",
            "Computed other 100 feature vectors\n",
            "Computed other 100 feature vectors\n",
            "Computed other 100 feature vectors\n",
            "Computed other 100 feature vectors\n",
            "Computed other 100 feature vectors\n",
            "Computed other 100 feature vectors\n",
            "Computed other 100 feature vectors\n",
            "Computed other 100 feature vectors\n",
            "Computed other 100 feature vectors\n",
            "Computed other 100 feature vectors\n",
            "Computed other 100 feature vectors\n",
            "Computed other 100 feature vectors\n",
            "Computed other 100 feature vectors\n",
            "Computed other 100 feature vectors\n",
            "Computed other 100 feature vectors\n",
            "Computed other 100 feature vectors\n",
            "Computed other 100 feature vectors\n",
            "Computed other 100 feature vectors\n",
            "Computed other 100 feature vectors\n",
            "Computed other 100 feature vectors\n",
            "Computed other 100 feature vectors\n",
            "Computed other 100 feature vectors\n",
            "Computed other 100 feature vectors\n",
            "Computed other 100 feature vectors\n",
            "Computed other 100 feature vectors\n",
            "Computed other 100 feature vectors\n",
            "Computed other 100 feature vectors\n",
            "Computed other 100 feature vectors\n",
            "Computed other 100 feature vectors\n",
            "Computed other 100 feature vectors\n",
            "Computed other 100 feature vectors\n",
            "Computed other 100 feature vectors\n",
            "Computed other 100 feature vectors\n",
            "Computed other 100 feature vectors\n",
            "Computed other 100 feature vectors\n",
            "Computed other 100 feature vectors\n",
            "Computed other 100 feature vectors\n",
            "Computed other 100 feature vectors\n",
            "Computed other 100 feature vectors\n",
            "Computed other 100 feature vectors\n",
            "Computed other 100 feature vectors\n",
            "Computed other 100 feature vectors\n",
            "Computed other 100 feature vectors\n",
            "Computed other 100 feature vectors\n",
            "Computed other 100 feature vectors\n",
            "Computed other 100 feature vectors\n",
            "Computed other 100 feature vectors\n",
            "Computed other 100 feature vectors\n",
            "Computed other 100 feature vectors\n",
            "Computed other 100 feature vectors\n",
            "Computed other 100 feature vectors\n",
            "Computed other 100 feature vectors\n",
            "Computed other 100 feature vectors\n",
            "Computed other 100 feature vectors\n",
            "Computed other 100 feature vectors\n",
            "Computed other 100 feature vectors\n",
            "Computed other 100 feature vectors\n",
            "Computed other 100 feature vectors\n",
            "Computed other 100 feature vectors\n",
            "Computed other 100 feature vectors\n",
            "Computed other 100 feature vectors\n",
            "Computed other 100 feature vectors\n",
            "Computed other 100 feature vectors\n",
            "Computed other 100 feature vectors\n",
            "Computed other 100 feature vectors\n",
            "Computed other 100 feature vectors\n",
            "Computed other 100 feature vectors\n",
            "Computed other 100 feature vectors\n",
            "Computed other 100 feature vectors\n",
            "Computed other 100 feature vectors\n",
            "Computed other 100 feature vectors\n",
            "Computed other 100 feature vectors\n",
            "Computed other 100 feature vectors\n",
            "Computed other 100 feature vectors\n",
            "Computed other 100 feature vectors\n",
            "Computed other 100 feature vectors\n",
            "Computed other 100 feature vectors\n",
            "Computed other 100 feature vectors\n",
            "Computed other 100 feature vectors\n",
            "Computed other 100 feature vectors\n",
            "Computed other 100 feature vectors\n",
            "Computed other 100 feature vectors\n",
            "Computed other 100 feature vectors\n",
            "Computed other 100 feature vectors\n",
            "Computed other 100 feature vectors\n",
            "Computed other 100 feature vectors\n",
            "Computed other 100 feature vectors\n",
            "Computed other 100 feature vectors\n",
            "Computed other 100 feature vectors\n",
            "Computed other 100 feature vectors\n",
            "Computed other 100 feature vectors\n",
            "Computed other 100 feature vectors\n",
            "Computed other 100 feature vectors\n",
            "Computed other 100 feature vectors\n",
            "Computed other 100 feature vectors\n",
            "Computed other 100 feature vectors\n",
            "Computed other 100 feature vectors\n",
            "Computed other 100 feature vectors\n",
            "Computed other 100 feature vectors\n",
            "Computed other 100 feature vectors\n",
            "Computed other 100 feature vectors\n",
            "Computed other 100 feature vectors\n",
            "Computed other 100 feature vectors\n",
            "Computed other 100 feature vectors\n",
            "Computed other 100 feature vectors\n",
            "Computed other 100 feature vectors\n",
            "Computed other 100 feature vectors\n",
            "Computed other 100 feature vectors\n",
            "Computed other 100 feature vectors\n",
            "Computed other 100 feature vectors\n",
            "Computed other 100 feature vectors\n",
            "Computed other 100 feature vectors\n",
            "Computed other 100 feature vectors\n",
            "Computed other 100 feature vectors\n",
            "Computed other 100 feature vectors\n",
            "Computed other 100 feature vectors\n",
            "Computed other 100 feature vectors\n",
            "Computed other 100 feature vectors\n",
            "Computed other 100 feature vectors\n",
            "Computed other 100 feature vectors\n",
            "Elapse time for loading dataset and feature computation (s): 475.9679160118103\n",
            "Num training images: 2000\n",
            "Num test images: 18000\n",
            "Class ids: {1, 2, 3, 4, 5, 6, 7, 8, 9, 10}\n"
          ]
        }
      ],
      "source": [
        "N_train = 200  # Training images per class to build dictionary. Total training samples: N_train x Num classes\n",
        "dim_feat = 1500  # Dimension of the image feature vectors\n",
        "subsampling = []  # Percentage for subsampling the database sample and speed up the computational time. [] for use all samples\n",
        "\n",
        "start = time.time()\n",
        "Y_train, label_train, Y_test, label_test, le, rp = load_HGR_train_test(N_train, dim_feat=dim_feat, subsampling=subsampling, scale_factor=scale_factor)\n",
        "end = time.time()\n",
        "\n",
        "print(f'Elapse time for loading dataset and feature computation (s): {end - start}')\n",
        "print(f'Num training images: {Y_train.shape[1]}')\n",
        "print(f'Num test images: {Y_test.shape[1]}')\n",
        "print(f'Class ids: {set(label_train)}')"
      ]
    },
    {
      "cell_type": "markdown",
      "metadata": {
        "id": "YlMv5g5oJveQ"
      },
      "source": [
        "## Visualize feature vectors in a 2 subspace with t-sne"
      ]
    },
    {
      "cell_type": "code",
      "execution_count": null,
      "metadata": {
        "colab": {
          "base_uri": "https://localhost:8080/",
          "height": 531
        },
        "id": "XlsPeKLtAoUi",
        "outputId": "5204f1f3-f8f2-4192-eac5-c4c7d132d47c"
      },
      "outputs": [
        {
          "name": "stdout",
          "output_type": "stream",
          "text": [
            "[t-SNE] Computing 91 nearest neighbors...\n",
            "[t-SNE] Indexed 2000 samples in 0.003s...\n"
          ]
        },
        {
          "name": "stderr",
          "output_type": "stream",
          "text": [
            "/usr/local/lib/python3.7/dist-packages/sklearn/manifold/_t_sne.py:783: FutureWarning: The default initialization in TSNE will change from 'random' to 'pca' in 1.2.\n",
            "  FutureWarning,\n",
            "/usr/local/lib/python3.7/dist-packages/sklearn/manifold/_t_sne.py:793: FutureWarning: The default learning rate in TSNE will change from 200.0 to 'auto' in 1.2.\n",
            "  FutureWarning,\n"
          ]
        },
        {
          "name": "stdout",
          "output_type": "stream",
          "text": [
            "[t-SNE] Computed neighbors for 2000 samples in 0.369s...\n",
            "[t-SNE] Computed conditional probabilities for sample 1000 / 2000\n",
            "[t-SNE] Computed conditional probabilities for sample 2000 / 2000\n",
            "[t-SNE] Mean sigma: 0.000458\n",
            "[t-SNE] KL divergence after 250 iterations with early exaggeration: 67.015152\n",
            "[t-SNE] KL divergence after 1000 iterations: 0.420536\n"
          ]
        },
        {
          "data": {
            "text/plain": [
              "[Text(0.5, 1.0, 'Data T-SNE projection')]"
            ]
          },
          "execution_count": 30,
          "metadata": {},
          "output_type": "execute_result"
        },
        {
          "data": {
            "image/png": "[encoded data removed]",
            "text/plain": [
              "<Figure size 432x288 with 1 Axes>"
            ]
          },
          "metadata": {
            "needs_background": "light"
          },
          "output_type": "display_data"
        }
      ],
      "source": [
        "from sklearn.manifold import TSNE\n",
        "import pandas as pd\n",
        "import seaborn as sns\n",
        "\n",
        "tsne = TSNE(random_state = 42, n_components=2,verbose=0, perplexity=40, n_iter=300)\n",
        "z = tsne.fit_transform(Y_train.transpose())\n",
        "df = pd.DataFrame()\n",
        "df[\"y\"] = label_train\n",
        "df[\"comp-1\"] = z[:,0]\n",
        "df[\"comp-2\"] = z[:,1]\n",
        "fig = plt.figure(figsize = (12, 12))\n",
        "sns.scatterplot(x=\"comp-1\", y=\"comp-2\", hue=df.y.tolist(),\n",
        "                palette=sns.color_palette(\"hls\", len(set(label_train))),\n",
        "                data=df).set(title=\"Data T-SNE projection\")"
      ]
    },
    {
      "cell_type": "markdown",
      "metadata": {
        "id": "LpvT7dCqKeX7"
      },
      "source": [
        "# Sparse Representation-based Classification (SRC)"
      ]
    },
    {
      "cell_type": "code",
      "execution_count": null,
      "metadata": {
        "id": "hCmakjvOzoCL"
      },
      "outputs": [],
      "source": [
        "# Run SRC\n",
        "# !python run_SRC.py"
      ]
    },
    {
      "cell_type": "markdown",
      "metadata": {
        "id": "PlTKs3Ylz8hJ"
      },
      "source": [
        "## Compute dictionary as the straightforward concatenation of features vector from images"
      ]
    },
    {
      "cell_type": "code",
      "execution_count": null,
      "metadata": {
        "colab": {
          "base_uri": "https://localhost:8080/"
        },
        "id": "fZYH-L8mz2fA",
        "outputId": "c69c955c-c1ad-4f6a-a3dc-6b684c1587f1"
      },
      "outputs": [
        {
          "name": "stdout",
          "output_type": "stream",
          "text": [
            "Num Classes: 10\n",
            "Feature vector dimension: 1500\n",
            "Atoms in dictionary: 2000\n"
          ]
        }
      ],
      "source": [
        "src = SRC.SRC(lamb=0.99999975)  # Sparsity regularizer in the underlying lasso minimization problem. The optimal value can be very different for different applications and paramenters.\n",
        "src.fit(Y_train, label_train)\n",
        "\n",
        "print(f'Num Classes: {src.num_classes}')\n",
        "print(f'Feature vector dimension: {src.D.shape[0]}')\n",
        "print(f'Atoms in dictionary: {src.D.shape[1]}')"
      ]
    },
    {
      "cell_type": "markdown",
      "metadata": {
        "id": "Vh3YD0nA0Fe_"
      },
      "source": [
        "## Image Classification using SRC on test data"
      ]
    },
    {
      "cell_type": "code",
      "execution_count": null,
      "metadata": {
        "colab": {
          "base_uri": "https://localhost:8080/"
        },
        "id": "SBrhRu30z2hU",
        "outputId": "a5e177db-5312-40c5-ef50-f53e4b1c2d94"
      },
      "outputs": [
        {
          "name": "stderr",
          "output_type": "stream",
          "text": [
            "/content/DICTOL_python/dictol/SRC.py:30: RuntimeWarning: invalid value encountered in true_divide\n",
            "  cs_bin = cs/cs[-1,:] > threshold\n"
          ]
        },
        {
          "name": "stdout",
          "output_type": "stream",
          "text": [
            "Mean sparsity: 10.789666666666667 out of 2000\n",
            "Std sparsity: 10.155851290977258\n",
            "Elapse time for prediction(s): 26.316590070724487\n",
            "Accuracy = 95.83 %\n"
          ]
        }
      ],
      "source": [
        "start = time.time()\n",
        "pred = src.predict(Y_test, iterations=100, mean_spars=True)\n",
        "end = time.time()\n",
        "\n",
        "print(f'Elapse time for prediction(s): {end - start}')\n",
        "acc = np.sum(pred == label_test) / float(len(label_test))\n",
        "print('Accuracy = {:.2f} %'.format(100 * acc))"
      ]
    },
    {
      "cell_type": "code",
      "execution_count": null,
      "metadata": {
        "colab": {
          "base_uri": "https://localhost:8080/"
        },
        "id": "nQRbYO4F0arY",
        "outputId": "1b5555c9-f7f3-4968-e6aa-a32c1828a7dd"
      },
      "outputs": [
        {
          "name": "stdout",
          "output_type": "stream",
          "text": [
            "Actual ids for the first five test samples: ['01_palm' '01_palm' '01_palm' '01_palm' '01_palm']\n",
            "Id predictions for the first five test samples: ['01_palm' '01_palm' '01_palm' '01_palm' '01_palm']\n"
          ]
        }
      ],
      "source": [
        "# Class names from prediction\n",
        "if le:\n",
        "  class_id = le.inverse_transform(np.asarray(label_test)-1)\n",
        "  class_pred = le.inverse_transform(pred-1)\n",
        "  print(f'Actual ids for the first five test samples: {class_id[0:5]}')\n",
        "  print(f'Id predictions for the first five test samples: {class_pred[0:5]}')"
      ]
    },
    {
      "cell_type": "code",
      "execution_count": null,
      "metadata": {
        "colab": {
          "base_uri": "https://localhost:8080/",
          "height": 233
        },
        "id": "2FMu1koTIDUq",
        "outputId": "52285c4e-8052-453d-d742-64e88c714206"
      },
      "outputs": [
        {
          "data": {
            "image/png": "[encoded data removed]",
            "text/plain": [
              "<Figure size 432x288 with 1 Axes>"
            ]
          },
          "metadata": {
            "needs_background": "light"
          },
          "output_type": "display_data"
        },
        {
          "name": "stdout",
          "output_type": "stream",
          "text": [
            "Actual id: 05_thumb\n",
            "Predicted id: ['05_thumb']\n"
          ]
        }
      ],
      "source": [
        "# Prediction over a specific image\n",
        "im_path = 'DICTOL_python/dictol/data/Hand Gesture Recognition Database/05_thumb/frame_00_05_0008.png'\n",
        "if rp:\n",
        "    # Computes feature vector (RP) from image\n",
        "    im = imread(im_path)                          # Read image\n",
        "    im = rescale(im, scale_factor)\n",
        "    io.imshow(im)\n",
        "    plt.show()\n",
        "    im = (im/255)-0.5\n",
        "    im_vec = im.reshape((1, -1))                  # To vector\n",
        "    rp_feat = np.asarray(rp.compute_rp(im_vec)).transpose()\n",
        "\n",
        "    # Estimate label from folder name\n",
        "    full_path = os.path.dirname(im_path)\n",
        "    label = os.path.normpath(full_path).split(os.path.sep)[-1]\n",
        "    print(f'Actual id: {label}')\n",
        "    pred_one = src.predict(rp_feat, iterations=100)\n",
        "    print(f'Predicted id: {le.inverse_transform(pred_one-1)}')\n",
        "\n"
      ]
    },
    {
      "cell_type": "markdown",
      "metadata": {
        "id": "TB-3m21HKssB"
      },
      "source": [
        "# Dictionary learning with structured incoherence (DLSI)"
      ]
    },
    {
      "cell_type": "code",
      "execution_count": null,
      "metadata": {
        "id": "opJ90Syx2ete"
      },
      "outputs": [],
      "source": [
        "# Run DLSI\n",
        "#!python run_DLSI.py"
      ]
    },
    {
      "cell_type": "markdown",
      "metadata": {
        "id": "6_-IouVc2rJR"
      },
      "source": [
        "## Learn a dictionary from the training features vector obtained from images"
      ]
    },
    {
      "cell_type": "code",
      "execution_count": null,
      "metadata": {
        "colab": {
          "base_uri": "https://localhost:8080/"
        },
        "id": "9pjCcHke2evq",
        "outputId": "39981dce-b02c-4a54-c969-c935e2c9a154"
      },
      "outputs": [
        {
          "name": "stdout",
          "output_type": "stream",
          "text": [
            "Initializing ... \n",
            "initial loss = 480.6997\n",
            "iter \t   1/100 \t loss \t 232.7228\n",
            "iter \t  10/100 \t loss \t 21.4914\n",
            "iter \t  20/100 \t loss \t 21.4914\n",
            "iter \t  30/100 \t loss \t 21.4913\n",
            "iter \t  40/100 \t loss \t 21.4913\n",
            "iter \t  50/100 \t loss \t 21.4913\n",
            "iter \t  60/100 \t loss \t 21.4913\n",
            "iter \t  70/100 \t loss \t 21.4913\n",
            "iter \t  80/100 \t loss \t 21.4913\n",
            "iter \t  90/100 \t loss \t 21.4913\n",
            "iter \t 100/100 \t loss \t 21.4913\n",
            "Elapse time for dictionary learning(s): 233.36894941329956\n",
            "Num Classes: 10\n",
            "Feature vector dimension: 1500\n",
            "Atoms in dictionary: 320\n"
          ]
        }
      ],
      "source": [
        "# lamda: Sparsity regularizer in the underlying lasso minimization problem.\n",
        "# k: number of atoms per class in the dictionary\n",
        "dlsi = DLSI.DLSI(k=32, lambd=0.0000001, eta=0.001)\n",
        "start = time.time()\n",
        "dlsi.fit(Y_train, label_train, iterations=100, verbose=True)\n",
        "end = time.time()\n",
        "\n",
        "print(f'Elapse time for dictionary learning(s): {end - start}')\n",
        "print(f'Num Classes: {dlsi.num_classes}')\n",
        "print(f'Feature vector dimension: {src.D.shape[0]}')\n",
        "print(f'Atoms in dictionary: {dlsi.D.shape[1]}')"
      ]
    },
    {
      "cell_type": "markdown",
      "metadata": {
        "id": "zq2AaMIa26SG"
      },
      "source": [
        "## Image Classification using DLSI on test data"
      ]
    },
    {
      "cell_type": "code",
      "execution_count": null,
      "metadata": {
        "colab": {
          "base_uri": "https://localhost:8080/"
        },
        "id": "vVWYC66u2e8r",
        "outputId": "3be5daf4-11ac-4009-ffa6-6712285fdafd"
      },
      "outputs": [
        {
          "name": "stdout",
          "output_type": "stream",
          "text": [
            "Mean sparsity: 1.097611111111111 out of 320\n",
            "Std sparsity: 0.7427238636627831\n",
            "Elapse time for prediction(s): 13.21430492401123\n",
            "Accuracy = 39.59 %\n"
          ]
        }
      ],
      "source": [
        "start = time.time()\n",
        "pred = dlsi.predict(Y_test, iterations=100, mean_spars=True)\n",
        "end = time.time()\n",
        "\n",
        "print(f'Elapse time for prediction(s): {end - start}')\n",
        "acc = np.sum(pred == label_test) / float(len(label_test))\n",
        "print('Accuracy = {:.2f} %'.format(100 * acc))"
      ]
    },
    {
      "cell_type": "code",
      "execution_count": null,
      "metadata": {
        "colab": {
          "base_uri": "https://localhost:8080/"
        },
        "id": "qZrTNQ57Ku_K",
        "outputId": "a20ab21f-35e7-481b-df6f-756374a0694a"
      },
      "outputs": [
        {
          "name": "stdout",
          "output_type": "stream",
          "text": [
            "Actual ids for the first five test samples: ['01_palm' '01_palm' '01_palm' '01_palm' '01_palm']\n",
            "Id predictions for the first five test samples: ['08_palm_moved' '04_fist_moved' '08_palm_moved' '08_palm_moved' '02_l']\n"
          ]
        }
      ],
      "source": [
        "# Class names from prediction\n",
        "if le:\n",
        "  class_id = le.inverse_transform(np.asarray(label_test)-1)\n",
        "  class_pred = le.inverse_transform(pred-1)\n",
        "  print(f'Actual ids for the first five test samples: {class_id[0:5]}')\n",
        "  print(f'Id predictions for the first five test samples: {class_pred[0:5]}')\n",
        "\n"
      ]
    },
    {
      "cell_type": "code",
      "execution_count": null,
      "metadata": {
        "colab": {
          "base_uri": "https://localhost:8080/",
          "height": 233
        },
        "id": "k_KrvrL72_2_",
        "outputId": "22d0849a-0373-4164-b4c5-6d77fc175bee"
      },
      "outputs": [
        {
          "data": {
            "image/png": "[encoded data removed]",
            "text/plain": [
              "<Figure size 432x288 with 1 Axes>"
            ]
          },
          "metadata": {
            "needs_background": "light"
          },
          "output_type": "display_data"
        },
        {
          "name": "stdout",
          "output_type": "stream",
          "text": [
            "Actual id: 05_thumb\n",
            "Predicted id: ['06_index']\n"
          ]
        }
      ],
      "source": [
        "# Prediction over a specific image\n",
        "im_path = 'DICTOL_python/dictol/data/Hand Gesture Recognition Database/05_thumb/frame_00_05_0008.png'\n",
        "if rp:\n",
        "    # Computes feature vector (RFF) from image\n",
        "    im = imread(im_path)                          # Read image\n",
        "    im = rescale(im, scale_factor)\n",
        "    io.imshow(im)\n",
        "    plt.show()\n",
        "    im = (im/255)-0.5\n",
        "    im_vec = im.reshape((1, -1))                  # To vector\n",
        "    rp_feat = np.asarray(rp.compute_rp(im_vec)).transpose()\n",
        "\n",
        "    # Estimate label from folder name\n",
        "    full_path = os.path.dirname(im_path)\n",
        "    label = os.path.normpath(full_path).split(os.path.sep)[-1]\n",
        "    print(f'Actual id: {label}')\n",
        "    pred_one = dlsi.predict(rp_feat, iterations=100)\n",
        "    print(f'Predicted id: {le.inverse_transform(pred_one-1)}')"
      ]
    }
  ],
  "metadata": {
    "colab": {
      "provenance": [],
      "toc_visible": true
    },
    "kernelspec": {
      "display_name": "Python 3",
      "language": "python",
      "name": "python3"
    },
    "language_info": {
      "name": "python",
      "version": "3.11.12"
    }
  },
  "nbformat": 4,
  "nbformat_minor": 0
}
